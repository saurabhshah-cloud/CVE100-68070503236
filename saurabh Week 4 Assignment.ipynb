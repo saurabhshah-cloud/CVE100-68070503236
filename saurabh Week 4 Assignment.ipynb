{
 "cells": [
  {
   "cell_type": "markdown",
   "id": "0d3c14d9",
   "metadata": {},
   "source": [
    "# even and odd\n",
    "iterate from loop from number 1 to n:\n",
    "if the number is even, print \"even\"\n",
    "otherwise, print [number] is \"odd\":z\n",
    "\n",
    "if n = 5 ==> expected output\n",
    "1 is \"odd\"\n",
    "2 is \"even\"\n",
    "3 is \"odd\"\n",
    "4 is \"even\""
   ]
  },
  {
   "cell_type": "code",
   "execution_count": 2,
   "id": "7c6fd794",
   "metadata": {},
   "outputs": [
    {
     "name": "stdout",
     "output_type": "stream",
     "text": [
      "1 is odd\n",
      "2 is even\n",
      "3 is odd\n",
      "4 is even\n",
      "5 is odd\n",
      "6 is even\n",
      "7 is odd\n",
      "8 is even\n",
      "9 is odd\n",
      "10 is even\n"
     ]
    }
   ],
   "source": [
    "n = 11\n",
    "for i in range(1, n):\n",
    "\tif i % 2 == 0:\n",
    "\t\tprint(i,\"is even\")\n",
    "\telse:\n",
    "\t\tprint(i,\"is odd\")"
   ]
  },
  {
   "cell_type": "markdown",
   "id": "7998d9bd",
   "metadata": {},
   "source": [
    "Multiplication\n",
    "- define n (n = 5)\n",
    "- use a loop from 1 to 10 (the values of i is 1 to 10)\n",
    "- if the result of multiplication (num*i) is greater than 50 => print (\"the result is large\")\n",
    "- otherwise, print the actual result ==> print (\"Result=\",result )"
   ]
  },
  {
   "cell_type": "code",
   "execution_count": 4,
   "id": "b3e4cb36",
   "metadata": {},
   "outputs": [
    {
     "name": "stdout",
     "output_type": "stream",
     "text": [
      "Result= 5\n",
      "Result= 10\n",
      "Result= 15\n",
      "Result= 20\n",
      "Result= 25\n",
      "Result= 30\n",
      "Result= 35\n",
      "Result= 40\n",
      "Result= 45\n",
      "Result= 50\n",
      "The result is larger\n"
     ]
    }
   ],
   "source": [
    "n = 5\n",
    "for i in range(1, 12):\n",
    "    result = i*n \n",
    "    if  result >50:\n",
    "        print(\"The result is larger\")\n",
    "    else:\n",
    "        print(\"Result=\", result)"
   ]
  },
  {
   "cell_type": "markdown",
   "id": "fc00259f",
   "metadata": {},
   "source": [
    "Skipping the special numbers\n",
    "define n \n",
    "loop numbers from 1 to n\n",
    "if the number is divisible 4 ==> skip it with continue\n",
    "if the number is greater than 20 ==> stop the loop with break\n",
    "otherwise --> print the number"
   ]
  },
  {
   "cell_type": "code",
   "execution_count": 6,
   "id": "87c0507c",
   "metadata": {},
   "outputs": [
    {
     "name": "stdout",
     "output_type": "stream",
     "text": [
      "1\n",
      "2\n",
      "3\n",
      "5\n",
      "6\n",
      "7\n",
      "9\n",
      "10\n",
      "11\n",
      "13\n",
      "14\n",
      "15\n"
     ]
    }
   ],
   "source": [
    "n = 20\n",
    "for i in range(16):\n",
    "    if i % 4 == 0:\n",
    "        continue\n",
    "    if i % 4> 20:\n",
    "        break\n",
    "    print(i)"
   ]
  },
  {
   "cell_type": "markdown",
   "id": "28e91f53",
   "metadata": {},
   "source": [
    "Guess the number \n",
    "The secret number is 777.\n",
    "- Ask the user to guess until they get it right.\n",
    "- If the guess is wrong, print \"Try again\"\n",
    "- If the guess is correct print \"you got it\" and stop the loop."
   ]
  },
  {
   "cell_type": "code",
   "execution_count": 16,
   "id": "7d05eccd",
   "metadata": {},
   "outputs": [
    {
     "name": "stdout",
     "output_type": "stream",
     "text": [
      "Try again.\n",
      "You got it!\n"
     ]
    }
   ],
   "source": [
    "secret = 777\n",
    "guess = int(input(\"Guess three digit number from 000 to 999: \"))\n",
    "while guess != secret:\n",
    "    print(\"Try again.\")\n",
    "    guess = int(input(\"Guess three digit number from 000 to 999: \"))\n",
    "print(\"You got it!\")"
   ]
  },
  {
   "cell_type": "markdown",
   "id": "a6a91af2",
   "metadata": {},
   "source": [
    "Shopping Cart Checkout System\n",
    "Use initial variable total_bill=0\n",
    "Ask user to add price and add the price to total_bill.\n",
    "If total_bill>1000, print (\"limit reached. you cannot buy anymore\" and break the loop)\n",
    "otherwise, ask user to add price"
   ]
  },
  {
   "cell_type": "code",
   "execution_count": 21,
   "id": "6306b069",
   "metadata": {},
   "outputs": [
    {
     "name": "stdout",
     "output_type": "stream",
     "text": [
      "you need to add something more\n",
      "you need to add something more\n",
      "you need to add something more\n",
      "you cannot buy anymore\n"
     ]
    }
   ],
   "source": [
    "Total_bill = 0\n",
    "while Total_bill <= 1000:\n",
    "    print(\"you need to add something more\")\n",
    "    price = int(input(\"price: \"))\n",
    "    Total_bill +=price\n",
    "print(\"you cannot buy anymore\")\n"
   ]
  }
 ],
 "metadata": {
  "kernelspec": {
   "display_name": "Python 3",
   "language": "python",
   "name": "python3"
  },
  "language_info": {
   "codemirror_mode": {
    "name": "ipython",
    "version": 3
   },
   "file_extension": ".py",
   "mimetype": "text/x-python",
   "name": "python",
   "nbconvert_exporter": "python",
   "pygments_lexer": "ipython3",
   "version": "3.9.6"
  }
 },
 "nbformat": 4,
 "nbformat_minor": 5
}
