{
  "cells": [
    {
      "cell_type": "code",
      "execution_count": 3,
      "metadata": {
        "colab": {
          "base_uri": "https://localhost:8080/"
        },
        "id": "bgLMGV2P-pWH",
        "outputId": "d597128b-eff4-4a0f-8cb1-45f408102ebd"
      },
      "outputs": [
        {
          "name": "stdout",
          "output_type": "stream",
          "text": [
            "Sum of first 3 positives: 0\n"
          ]
        }
      ],
      "source": [
        "# Expected Output:\n",
        "# Sum of first 3 positives: 12\n",
        "\n",
        "nums = [-1, 2, -5, 3, 7, -2, 4]\n",
        "count = 0\n",
        "total = 0\n",
        "\n",
        "for n in nums:\n",
        "    if n <= 0:\n",
        "        break\n",
        "    total += n\n",
        "    count += 1\n",
        "    if count == 3:\n",
        "        break\n",
        "    else:\n",
        "        continue\n",
        "\n",
        "print(\"Sum of first 3 positives:\", total)"
      ]
    },
    {
      "cell_type": "code",
      "execution_count": 23,
      "metadata": {
        "colab": {
          "base_uri": "https://localhost:8080/"
        },
        "id": "g_9Bz8qc_GDA",
        "outputId": "e35b47f9-128f-47a3-bc6e-849fb5693e0a"
      },
      "outputs": [
        {
          "name": "stdout",
          "output_type": "stream",
          "text": [
            "Winner: Cara\n"
          ]
        }
      ],
      "source": [
        "# find the highest scoring player\n",
        "# Expected Output:\n",
        "# Winner: Cara\n",
        "players = [(\"Alice\", 15), (\"Bob\", 10), (\"Cara\", 20), (\"Dan\", 9)]\n",
        "winner = None\n",
        "best = -1\n",
        "\n",
        "for name, score in players:\n",
        "    if score > best:\n",
        "        best = score\n",
        "        winner = name\n",
        "\n",
        "print(\"Winner:\", winner)"
      ]
    },
    {
      "cell_type": "code",
      "execution_count": 30,
      "metadata": {
        "colab": {
          "base_uri": "https://localhost:8080/"
        },
        "id": "mFnCscKF_odT",
        "outputId": "b9d1f62f-561a-44b9-946b-bd4f862df10d"
      },
      "outputs": [
        {
          "name": "stdout",
          "output_type": "stream",
          "text": [
            "First positive multiple of 7: 7\n"
          ]
        }
      ],
      "source": [
        "# Expected Output:\n",
        "# First positive multiple of 7: 7\n",
        "nums = [-14, -7, 0, 7, 14, 21, 28]\n",
        "first = None\n",
        "count = 0\n",
        "for n in nums:\n",
        "    if n <= 0:\n",
        "        continue\n",
        "    if n % 7 == 0:\n",
        "        first = n\n",
        "        break\n",
        "    else:\n",
        "        continue\n",
        "\n",
        "if first is None:\n",
        "    print(\"None found\")\n",
        "else:\n",
        "    print(\"First positive multiple of 7:\", first)"
      ]
    },
    {
      "cell_type": "code",
      "execution_count": 31,
      "metadata": {
        "id": "AY7quxB6Bulg"
      },
      "outputs": [
        {
          "name": "stdout",
          "output_type": "stream",
          "text": [
            "mean=3.0 min=1 max=5\n"
          ]
        }
      ],
      "source": [
        "# Expected Output:\n",
        "# mean=3.0 min=1 max=5\n",
        "\n",
        "def stats(nums):\n",
        "    mn = min(nums)\n",
        "    mx = max(nums)\n",
        "    avg = sum(nums)/len(nums)\n",
        "    return mn, mx, avg\n",
        "\n",
        "mn, mx, avg = stats([1,2,3,4,5])\n",
        "print(f\"mean={avg} min={mn} max={mx}\")"
      ]
    },
    {
      "cell_type": "code",
      "execution_count": 37,
      "metadata": {
        "id": "HXRmCSI8DVAa"
      },
      "outputs": [
        {
          "name": "stdout",
          "output_type": "stream",
          "text": [
            "[[0.08041161 0.91425674 0.73087754]\n",
            " [0.82083719 0.68960956 0.11821713]]\n"
          ]
        }
      ],
      "source": [
        "# Expected Output: Random array of shape (2,3)\n",
        "import numpy\n",
        "a = numpy.random.rand(2, 3) # wrong call\n",
        "print(a)\n"
      ]
    },
    {
      "cell_type": "code",
      "execution_count": 38,
      "metadata": {
        "collapsed": true,
        "id": "gX6tW-lBDhn_"
      },
      "outputs": [
        {
          "name": "stdout",
          "output_type": "stream",
          "text": [
            "sqrt(16) = 4.0\n"
          ]
        }
      ],
      "source": [
        "# Expected Output: sqrt(16) = 4.0\n",
        "import numpy as np\n",
        "print(\"sqrt(16) =\", np.sqrt(16))"
      ]
    },
    {
      "cell_type": "code",
      "execution_count": 39,
      "metadata": {
        "id": "Jg4KYIhSDouW"
      },
      "outputs": [
        {
          "name": "stdout",
          "output_type": "stream",
          "text": [
            "0.7071067811865476\n"
          ]
        }
      ],
      "source": [
        "# Expected Output: 0.7071067811865476\n",
        "\n",
        "import math\n",
        "import numpy\n",
        "print(math.sin(math.pi / 4))"
      ]
    },
    {
      "cell_type": "code",
      "execution_count": 40,
      "metadata": {
        "colab": {
          "base_uri": "https://localhost:8080/"
        },
        "id": "AsaiYN8PDyfe",
        "outputId": "70819d8c-bcaa-4ed2-ef74-7faf7bd003ba"
      },
      "outputs": [
        {
          "name": "stdout",
          "output_type": "stream",
          "text": [
            "Mean = 3.0\n"
          ]
        }
      ],
      "source": [
        "# Expected Output: Mean = 3.0\n",
        "import numpy as np\n",
        "arr = np.array([1, 2, 3, 4, 5])\n",
        "mean = np.sum(arr) / np.size(arr)\n",
        "print(\"Mean =\", mean)\n"
      ]
    },
    {
      "cell_type": "code",
      "execution_count": 41,
      "metadata": {
        "id": "kb42Oi8IEjjq"
      },
      "outputs": [
        {
          "name": "stdout",
          "output_type": "stream",
          "text": [
            "Aye 25\n"
          ]
        }
      ],
      "source": [
        "# Expected Output:\n",
        "# Aye 25\n",
        "class Person:\n",
        "    def __init__(self, name, age):\n",
        "        self.name = name\n",
        "        self.age = age\n",
        "\n",
        "p = Person(\"Aye\", 25)\n",
        "print(p.name, p.age)\n"
      ]
    },
    {
      "cell_type": "code",
      "execution_count": 42,
      "metadata": {
        "id": "eCULBxn7FWmb"
      },
      "outputs": [
        {
          "name": "stdout",
          "output_type": "stream",
          "text": [
            "50000\n"
          ]
        }
      ],
      "source": [
        "# Expected Output:\n",
        "# 50000\n",
        "class Employee:\n",
        "    def __init__(self, salary):\n",
        "        self.__salary = salary\n",
        "\n",
        "    def get_salary(self):\n",
        "        return self.__salary\n",
        "\n",
        "e = Employee(50000)\n",
        "print(e.get_salary())\n"
      ]
    },
    {
      "cell_type": "code",
      "execution_count": 43,
      "metadata": {
        "id": "y_SJZvylFmXT"
      },
      "outputs": [
        {
          "name": "stdout",
          "output_type": "stream",
          "text": [
            "Brand: Toyota, Engine: 2000\n"
          ]
        }
      ],
      "source": [
        "# Expected Output:\n",
        "# Brand: Toyota, Engine: 2000\n",
        "class Vehicle:\n",
        "    def __init__(self, brand,):\n",
        "        self.brand = brand\n",
        "\n",
        "class Car(Vehicle):\n",
        "    def __init__(self, brand, engine):\n",
        "        super().__init__(brand)\n",
        "        self.engine = engine\n",
        "\n",
        "\n",
        "c = Car(\"Toyota\", 2000)\n",
        "print(f\"Brand: {c.brand}, Engine: {c.engine}\")"
      ]
    },
    {
      "cell_type": "code",
      "execution_count": 47,
      "metadata": {
        "id": "VZQ3DDbsHWC4"
      },
      "outputs": [
        {
          "name": "stdout",
          "output_type": "stream",
          "text": [
            "Area: 12.566370614359172\n"
          ]
        }
      ],
      "source": [
        "# Expected Output:\n",
        "# Area: 12.56\n",
        "import math\n",
        "\n",
        "class Shape:\n",
        "    def area(self):\n",
        "        pass\n",
        "\n",
        "class Circle(Shape):\n",
        "    def area(self, radius):\n",
        "        return math.pi * radius ** 2\n",
        "\n",
        "c = Circle()\n",
        "print(\"Area:\", c.area(2))"
      ]
    }
  ],
  "metadata": {
    "colab": {
      "provenance": []
    },
    "kernelspec": {
      "display_name": "Python 3",
      "name": "python3"
    },
    "language_info": {
      "codemirror_mode": {
        "name": "ipython",
        "version": 3
      },
      "file_extension": ".py",
      "mimetype": "text/x-python",
      "name": "python",
      "nbconvert_exporter": "python",
      "pygments_lexer": "ipython3",
      "version": "3.12.6"
    }
  },
  "nbformat": 4,
  "nbformat_minor": 0
}
