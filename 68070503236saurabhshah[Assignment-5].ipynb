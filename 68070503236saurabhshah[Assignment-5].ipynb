{
 "cells": [
  {
   "cell_type": "code",
   "execution_count": 2,
   "id": "b1243487",
   "metadata": {},
   "outputs": [],
   "source": [
    "class car:\n",
    "    def __init__(self, model, rent_per_day, available):\n",
    "        self.model = model\n",
    "        self.rent_per_day = rent_per_day\n",
    "        self.available = True\n",
    "    \n",
    "    def rent(self, days):\n",
    "        if self.available:\n",
    "            self.available = False\n",
    "            total_cost = self.rent_per_day * days\n",
    "            print(f\"Car rented. Total cost = \",total_cost)\n",
    "        else:\n",
    "            print(\"car is not available\")\n",
    "    def return_car(self):\n",
    "        self.available = True\n",
    "        print (\"car returned\")\n",
    "    def display(self):\n",
    "        print(\"Model\", self.model)\n",
    "        print(\"rent per day\", self.rent_per_day)\n",
    "        print (\"available\", self.available)"
   ]
  },
  {
   "cell_type": "code",
   "execution_count": 13,
   "id": "9e54de10",
   "metadata": {},
   "outputs": [
    {
     "name": "stdout",
     "output_type": "stream",
     "text": [
      "Car rented. Total cost =  250000\n",
      "Model Toyato\n",
      "rent per day 50000\n",
      "available False\n",
      "car returned\n",
      "Model Toyato\n",
      "rent per day 50000\n",
      "available True\n"
     ]
    }
   ],
   "source": [
    "car1=car(\"Toyato\", 50000, True)\n",
    "car1.rent(5)\n",
    "car1.display()\n",
    "car1.return_car()\n",
    "car1.display()"
   ]
  },
  {
   "cell_type": "code",
   "execution_count": 3,
   "id": "7c1deecd",
   "metadata": {},
   "outputs": [],
   "source": [
    "class Person:\n",
    "    def __init__(self,name,age):\n",
    "        self.name = name\n",
    "        self.age = age\n",
    "    def display_info (self):\n",
    "        print(\"Name:\",self.name , \"Age:\",self.age)\n",
    "class Student(Person):\n",
    "    def __init__(self,name,age):\n",
    "        super().__init__(name,age)\n",
    "        self.marks = {}\n",
    "    def add_marks(self,subject,score):\n",
    "        if subject in self.marks:\n",
    "            old_score = self.marks[subject]\n",
    "            self.marks[subject] = score\n",
    "            print(\"Update the score of the subject\")\n",
    "            print(\"Old score =\", old_score)\n",
    "            print(\"New Score =\",score)\n",
    "        else:\n",
    "            self.marks[subject] = score\n",
    "            print(\"Add new subject\")\n",
    "    def display_marks(self):\n",
    "        print(\"Score =\", self.marks)\n",
    "    def avarage(self):\n",
    "        if self.marks == 0:\n",
    "            return 0\n",
    "        avg = sum(self.marks.values()) / len(self.marks)\n",
    "        print(avg)\n",
    "     "
   ]
  },
  {
   "cell_type": "code",
   "execution_count": 4,
   "id": "88306fe7",
   "metadata": {},
   "outputs": [
    {
     "name": "stdout",
     "output_type": "stream",
     "text": [
      "Add new subject\n",
      "Add new subject\n",
      "Score = {'Eng': 19, 'Math': 18}\n"
     ]
    }
   ],
   "source": [
    "std1=Student(\"Manny\",14)\n",
    "std1.add_marks(\"Eng\",19)\n",
    "std1.add_marks(\"Math\",18)\n",
    "std1.display_marks()"
   ]
  },
  {
   "cell_type": "code",
   "execution_count": 5,
   "id": "a1701de9",
   "metadata": {},
   "outputs": [
    {
     "name": "stdout",
     "output_type": "stream",
     "text": [
      "18.5\n"
     ]
    }
   ],
   "source": [
    "std1.avarage()"
   ]
  }
 ],
 "metadata": {
  "kernelspec": {
   "display_name": "Python 3",
   "language": "python",
   "name": "python3"
  },
  "language_info": {
   "codemirror_mode": {
    "name": "ipython",
    "version": 3
   },
   "file_extension": ".py",
   "mimetype": "text/x-python",
   "name": "python",
   "nbconvert_exporter": "python",
   "pygments_lexer": "ipython3",
   "version": "3.12.6"
  }
 },
 "nbformat": 4,
 "nbformat_minor": 5
}
